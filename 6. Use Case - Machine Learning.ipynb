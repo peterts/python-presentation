{
 "cells": [
  {
   "cell_type": "markdown",
   "metadata": {},
   "source": [
    "![title](https://uploads.toptal.io/blog/image/443/toptal-blog-image-1407508081138.png)\n",
    "\n",
    "# Use Case - Machine Learning"
   ]
  },
  {
   "cell_type": "markdown",
   "metadata": {
    "slideshow": {
     "slide_type": "slide"
    }
   },
   "source": [
    "# Import all the stuff we need"
   ]
  },
  {
   "cell_type": "code",
   "execution_count": 4,
   "metadata": {
    "collapsed": false
   },
   "outputs": [],
   "source": [
    "from nltk.corpus import movie_reviews\n",
    "import os\n",
    "import numpy as np\n",
    "from sklearn.feature_extraction.text import TfidfVectorizer\n",
    "import re\n",
    "from sklearn.linear_model import LogisticRegression\n",
    "from sklearn.model_selection import StratifiedShuffleSplit"
   ]
  },
  {
   "cell_type": "markdown",
   "metadata": {
    "slideshow": {
     "slide_type": "slide"
    }
   },
   "source": [
    "# Defining the directory paths"
   ]
  },
  {
   "cell_type": "code",
   "execution_count": 57,
   "metadata": {
    "collapsed": false
   },
   "outputs": [],
   "source": [
    "DIR_PATH_DATA = \"C:\\\\Users\\\\peter.sandberg\\\\Development\\\\Python-Presentation\\\\data\"\n",
    "DIR_PATH_NEG = os.path.join(PATH_DATA, \"neg\")\n",
    "DIR_PATH_POS = os.path.join(PATH_DATA, \"pos\")"
   ]
  },
  {
   "cell_type": "markdown",
   "metadata": {
    "slideshow": {
     "slide_type": "subslide"
    }
   },
   "source": [
    "## Create the paths to all the files"
   ]
  },
  {
   "cell_type": "code",
   "execution_count": 58,
   "metadata": {
    "collapsed": false
   },
   "outputs": [],
   "source": [
    "FILE_PATHS_NEG = [os.path.join(DIR_PATH_NEG, f) for f in os.listdir(DIR_PATH_NEG)]\n",
    "FILE_PATHS_POS = [os.path.join(DIR_PATH_POS, f) for f in os.listdir(DIR_PATH_POS)]"
   ]
  },
  {
   "cell_type": "markdown",
   "metadata": {
    "slideshow": {
     "slide_type": "slide"
    }
   },
   "source": [
    "# Read all movie reviews into memory"
   ]
  },
  {
   "cell_type": "code",
   "execution_count": 59,
   "metadata": {
    "collapsed": false
   },
   "outputs": [
    {
     "data": {
      "text/plain": [
       "'the happy bastard\\'s quick movie review \\n damn that y2k bug . \\n it\\'s got a head start in this movie starring jamie lee curtis and another baldwin brother ( william this time ) in a story regarding a crew of a tugboat that comes across a deserted russian tech ship that has a strangeness to it when they kick the power back on . \\n little do they know the power within . . . \\n going for the gore and bringing on a few action sequences here and there , virus still feels very empty , like a movie going for all flash and no substance . \\n we don\\'t know why the crew was really out in the middle of nowhere , we don\\'t know the origin of what took over the ship ( just that a big pink flashy thing hit the mir ) , and , of course , we don\\'t know why donald sutherland is stumbling around drunkenly throughout . \\n here , it\\'s just \" hey , let\\'s chase these people around with some robots \" . \\n the acting is below average , even from the likes of curtis . \\n you\\'re more likely to get a kick out of her work in halloween h20 . \\n sutherland is wasted and baldwin , well , he\\'s acting like a baldwin , of course . \\n the real star here are stan winston\\'s robot design , some schnazzy cgi , and the occasional good gore shot , like picking into someone\\'s brain . \\n so , if robots and body parts really turn you on , here\\'s your movie . \\n otherwise , it\\'s pretty much a sunken ship of a movie . \\n'"
      ]
     },
     "execution_count": 59,
     "metadata": {},
     "output_type": "execute_result"
    }
   ],
   "source": [
    "documents = []\n",
    "labels = []\n",
    "\n",
    "for file_path in FILE_PATHS_NEG:\n",
    "    with open(file_path) as f:\n",
    "        documents.append(\" \".join(f.readlines()))\n",
    "    labels.append(0)\n",
    " \n",
    "for file_path in FILE_PATHS_POS:\n",
    "    with open(file_path) as f:\n",
    "        documents.append(\" \".join(f.readlines()))\n",
    "    labels.append(1)\n",
    "    \n",
    "documents[1]"
   ]
  },
  {
   "cell_type": "markdown",
   "metadata": {
    "slideshow": {
     "slide_type": "slide"
    }
   },
   "source": [
    "# Defining a simple document cleaning method"
   ]
  },
  {
   "cell_type": "code",
   "execution_count": 60,
   "metadata": {
    "collapsed": true
   },
   "outputs": [],
   "source": [
    "def clean_documents(_documents):\n",
    "    _documents = [\" \".join(d.split(\"\\n\")) for d in _documents]\n",
    "    documents_cleaned = []\n",
    "    for d in _documents:\n",
    "        d_cleaned = d.lower()\n",
    "        d_cleaned = re.sub(\"[^a-z0-9\\s]\", \"\", d_cleaned)\n",
    "        d_cleaned = \" \".join(d_cleaned.split())\n",
    "        documents_cleaned.append(d_cleaned)\n",
    "    return documents_cleaned"
   ]
  },
  {
   "cell_type": "markdown",
   "metadata": {
    "slideshow": {
     "slide_type": "subslide"
    }
   },
   "source": [
    "## Cleaning the documents"
   ]
  },
  {
   "cell_type": "code",
   "execution_count": 61,
   "metadata": {
    "collapsed": false
   },
   "outputs": [
    {
     "data": {
      "text/plain": [
       "'the happy bastards quick movie review damn that y2k bug its got a head start in this movie starring jamie lee curtis and another baldwin brother william this time in a story regarding a crew of a tugboat that comes across a deserted russian tech ship that has a strangeness to it when they kick the power back on little do they know the power within going for the gore and bringing on a few action sequences here and there virus still feels very empty like a movie going for all flash and no substance we dont know why the crew was really out in the middle of nowhere we dont know the origin of what took over the ship just that a big pink flashy thing hit the mir and of course we dont know why donald sutherland is stumbling around drunkenly throughout here its just hey lets chase these people around with some robots the acting is below average even from the likes of curtis youre more likely to get a kick out of her work in halloween h20 sutherland is wasted and baldwin well hes acting like a baldwin of course the real star here are stan winstons robot design some schnazzy cgi and the occasional good gore shot like picking into someones brain so if robots and body parts really turn you on heres your movie otherwise its pretty much a sunken ship of a movie'"
      ]
     },
     "execution_count": 61,
     "metadata": {},
     "output_type": "execute_result"
    }
   ],
   "source": [
    "documents = clean_documents(documents)\n",
    "documents[1]"
   ]
  },
  {
   "cell_type": "markdown",
   "metadata": {
    "slideshow": {
     "slide_type": "slide"
    }
   },
   "source": [
    "## Convert the labels and documents into numpy arrays"
   ]
  },
  {
   "cell_type": "code",
   "execution_count": 62,
   "metadata": {
    "collapsed": true
   },
   "outputs": [],
   "source": [
    "documents = np.asarray(documents)\n",
    "labels = np.asarray(labels)"
   ]
  },
  {
   "cell_type": "markdown",
   "metadata": {
    "slideshow": {
     "slide_type": "slide"
    }
   },
   "source": [
    "# Shuffle both the documents and the labels"
   ]
  },
  {
   "cell_type": "code",
   "execution_count": 63,
   "metadata": {
    "collapsed": true
   },
   "outputs": [],
   "source": [
    "p = np.random.permutation(documents.shape[0])\n",
    "documents = documents[p]\n",
    "labels = labels[p]"
   ]
  },
  {
   "cell_type": "markdown",
   "metadata": {
    "slideshow": {
     "slide_type": "slide"
    }
   },
   "source": [
    "# Transform the documents to numeric arrays"
   ]
  },
  {
   "cell_type": "code",
   "execution_count": 64,
   "metadata": {
    "collapsed": false
   },
   "outputs": [],
   "source": [
    "transformer = TfidfVectorizer()\n",
    "X = transformer.fit_transform(documents)\n",
    "y = labels"
   ]
  },
  {
   "cell_type": "markdown",
   "metadata": {
    "slideshow": {
     "slide_type": "slide"
    }
   },
   "source": [
    "# Split the data into a training set and test set"
   ]
  },
  {
   "cell_type": "code",
   "execution_count": 65,
   "metadata": {
    "collapsed": false
   },
   "outputs": [],
   "source": [
    "train_i, test_i = next(StratifiedShuffleSplit(n_splits=2, test_size=0.1, random_state=1).split(X, y).__iter__())\n",
    " \n",
    "X_train = X[train_i]\n",
    "X_test = X[test_i]\n",
    "y_train = y[train_i]\n",
    "y_test = y[test_i]"
   ]
  },
  {
   "cell_type": "markdown",
   "metadata": {
    "slideshow": {
     "slide_type": "slide"
    }
   },
   "source": [
    "# Training the model"
   ]
  },
  {
   "cell_type": "code",
   "execution_count": 66,
   "metadata": {
    "collapsed": false
   },
   "outputs": [
    {
     "data": {
      "text/plain": [
       "LogisticRegression(C=1.0, class_weight=None, dual=False, fit_intercept=True,\n",
       "          intercept_scaling=1, max_iter=100, multi_class='ovr', n_jobs=1,\n",
       "          penalty='l2', random_state=None, solver='liblinear', tol=0.0001,\n",
       "          verbose=0, warm_start=False)"
      ]
     },
     "execution_count": 66,
     "metadata": {},
     "output_type": "execute_result"
    }
   ],
   "source": [
    "model = LogisticRegression()\n",
    "model.fit(X_train, y_train)"
   ]
  },
  {
   "cell_type": "markdown",
   "metadata": {
    "slideshow": {
     "slide_type": "slide"
    }
   },
   "source": [
    "# Evaluate the performance of the model"
   ]
  },
  {
   "cell_type": "code",
   "execution_count": 67,
   "metadata": {
    "collapsed": false
   },
   "outputs": [
    {
     "data": {
      "text/plain": [
       "0.82499999999999996"
      ]
     },
     "execution_count": 67,
     "metadata": {},
     "output_type": "execute_result"
    }
   ],
   "source": [
    "y_pred = model.predict(X_test)\n",
    "np.average(y_pred == y_test)"
   ]
  },
  {
   "cell_type": "markdown",
   "metadata": {
    "slideshow": {
     "slide_type": "slide"
    }
   },
   "source": [
    "# Predicting the value of a new review"
   ]
  },
  {
   "cell_type": "code",
   "execution_count": 68,
   "metadata": {
    "collapsed": false
   },
   "outputs": [
    {
     "data": {
      "text/plain": [
       "\"Back To The Future is such an inventive and exciting piece of filmmaking that it is impossible to forget about it. The casting of every character involved was absolutely perfect, and the performances were spectacular. I first saw this film when I was six years old, and it is the only movie that I know of that I don't think I could ever get sick of.\\n\\nOne of the best things about Back To The Future is that it really makes you think. You can have in-depth conversations about the plausibility of the story-line and spend hours discussing the film. The story is awesome, it is delivered cleverly and entertainingly, and the movie as a whole is just so much FUN that it can be forgiven whatever number of time-travel discrepancies that may be found in the plot. \\n\\nI cannot recommend this movie enough. I have never found a movie other than this one that provides such a huge dose of great fun, and it has the desirable quality where you are able to see something new each time you see it. The only problem is that they stopped at part III.\""
      ]
     },
     "execution_count": 68,
     "metadata": {},
     "output_type": "execute_result"
    }
   ],
   "source": [
    "new_review = \"\"\"Back To The Future is such an inventive and exciting piece of filmmaking that it is impossible to forget about it. The casting of every character involved was absolutely perfect, and the performances were spectacular. I first saw this film when I was six years old, and it is the only movie that I know of that I don't think I could ever get sick of.\n",
    "\n",
    "One of the best things about Back To The Future is that it really makes you think. You can have in-depth conversations about the plausibility of the story-line and spend hours discussing the film. The story is awesome, it is delivered cleverly and entertainingly, and the movie as a whole is just so much FUN that it can be forgiven whatever number of time-travel discrepancies that may be found in the plot. \n",
    "\n",
    "I cannot recommend this movie enough. I have never found a movie other than this one that provides such a huge dose of great fun, and it has the desirable quality where you are able to see something new each time you see it. The only problem is that they stopped at part III.\"\"\"\n",
    "new_review"
   ]
  },
  {
   "cell_type": "code",
   "execution_count": 69,
   "metadata": {
    "collapsed": false,
    "slideshow": {
     "slide_type": "fragment"
    }
   },
   "outputs": [
    {
     "name": "stdout",
     "output_type": "stream",
     "text": [
      "I think this is a positive review\n"
     ]
    }
   ],
   "source": [
    "cleaned_text = clean_documents([new_review])\n",
    "X = transformer.transform(cleaned_text)\n",
    "y_pred = model.predict(X)[0]\n",
    " \n",
    "print(\"I think this is a {} review\".format('positive' if y_pred else 'negative'))"
   ]
  }
 ],
 "metadata": {
  "anaconda-cloud": {},
  "kernelspec": {
   "display_name": "Python [conda root]",
   "language": "python",
   "name": "conda-root-py"
  },
  "language_info": {
   "codemirror_mode": {
    "name": "ipython",
    "version": 3
   },
   "file_extension": ".py",
   "mimetype": "text/x-python",
   "name": "python",
   "nbconvert_exporter": "python",
   "pygments_lexer": "ipython3",
   "version": "3.5.2"
  }
 },
 "nbformat": 4,
 "nbformat_minor": 1
}
