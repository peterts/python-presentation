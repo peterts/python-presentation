{
 "cells": [
  {
   "cell_type": "markdown",
   "metadata": {
    "slideshow": {
     "slide_type": "slide"
    }
   },
   "source": [
    "![title](http://www.networknuts-web.biz/wp-content/uploads/2017/02/ceph-cluster-monitoring-networknuts.png)\n",
    "\n",
    "# Use Case - Directory Monitor"
   ]
  },
  {
   "cell_type": "markdown",
   "metadata": {
    "slideshow": {
     "slide_type": "slide"
    }
   },
   "source": [
    "# Directory monitor\n",
    "\n",
    "- Now that we know how to send an email from Python, let's use it for something useful\n",
    "- E.g. let's use it to monitor changes in a directory, namely send a mail to yourself as soon as a new file is created in the directory"
   ]
  },
  {
   "cell_type": "markdown",
   "metadata": {
    "slideshow": {
     "slide_type": "notes"
    }
   },
   "source": [
    "# Some useful libraries\n",
    "\n",
    "- Three very useful libraries when you need to do some stuff with files and/or folders are **os**, **sys**, and **shutil**\n",
    "- A few useful things you can do:\n",
    "    - Creating a file path that works on all operating systems: `os.path.join(part1, part2, ... ,partn)`\n",
    "    - Checking if a path exists: `os.path.exists(path)`\n",
    "    - Checking if a path if to a *file*: `os.path.isfile(path)`\n",
    "    - Checking if a path is to a *directory*: `os.path.isdir(path)`\n",
    "    - Deleting a *file*: `os.remove(file_path)`\n",
    "    - Deleting a *directory and all sub-directories and files*: `shutil.rmtree(path)`\n",
    "    - Checking when a directory or file was last edited: `os.path.getctime(path)`\n",
    "    - Listing all files in a directory: `os.listdir(path)`\n",
    "    - Moving files: `os.rename(from_path, to_path)` / `shutil.move(from_path, to_path)`"
   ]
  },
  {
   "cell_type": "markdown",
   "metadata": {
    "slideshow": {
     "slide_type": "slide"
    }
   },
   "source": [
    "# Importing stuff that we need"
   ]
  },
  {
   "cell_type": "code",
   "execution_count": 17,
   "metadata": {
    "collapsed": true
   },
   "outputs": [],
   "source": [
    "from examples.gmail_mail_sending import init_service, create_message, send_message\n",
    "import os\n",
    "from time import time"
   ]
  },
  {
   "cell_type": "markdown",
   "metadata": {
    "slideshow": {
     "slide_type": "slide"
    }
   },
   "source": [
    "## Defining the two types of update"
   ]
  },
  {
   "cell_type": "code",
   "execution_count": 21,
   "metadata": {
    "collapsed": false
   },
   "outputs": [
    {
     "name": "stdout",
     "output_type": "stream",
     "text": [
      "Removed files:\n",
      "yolo.txt\n",
      "\n",
      "New files:\n",
      "hello.txt\n"
     ]
    }
   ],
   "source": [
    "def get_updates_as_text(old_files, updated_files):\n",
    "    removed_files = []\n",
    "    new_files = []\n",
    "    for f in old_files:\n",
    "        if f not in updated_files:\n",
    "            removed_files.append(f)\n",
    "    for f in updated_files:\n",
    "        if f not in old_files:\n",
    "            new_files.append(f)\n",
    "    text = \"\"\n",
    "    if removed_files:\n",
    "        text += \"Removed files:\\n{}\\n\\n\".format(\"\\n\".join(removed_files))\n",
    "    if new_files:\n",
    "        text += \"New files:\\n{}\".format(\"\\n\".join(new_files))\n",
    "    return text\n",
    "\n",
    "print(get_updates_as_text([\"yolo.txt\", \"yo.txt\"], [\"hello.txt\", \"yo.txt\"]))"
   ]
  },
  {
   "cell_type": "markdown",
   "metadata": {
    "slideshow": {
     "slide_type": "slide"
    }
   },
   "source": [
    "# Let's create the monitor"
   ]
  },
  {
   "cell_type": "code",
   "execution_count": 20,
   "metadata": {
    "collapsed": false
   },
   "outputs": [
    {
     "ename": "KeyboardInterrupt",
     "evalue": "",
     "output_type": "error",
     "traceback": [
      "\u001b[0;31m---------------------------------------------------------------------------\u001b[0m",
      "\u001b[0;31mKeyboardInterrupt\u001b[0m                         Traceback (most recent call last)",
      "\u001b[0;32m<ipython-input-20-3607c59c4033>\u001b[0m in \u001b[0;36m<module>\u001b[0;34m()\u001b[0m\n\u001b[1;32m     18\u001b[0m \u001b[1;33m\u001b[0m\u001b[0m\n\u001b[1;32m     19\u001b[0m \u001b[1;32mwhile\u001b[0m \u001b[0mtime\u001b[0m\u001b[1;33m(\u001b[0m\u001b[1;33m)\u001b[0m \u001b[1;33m-\u001b[0m \u001b[0mstart_time\u001b[0m \u001b[1;33m<\u001b[0m \u001b[0mmax_time\u001b[0m\u001b[1;33m:\u001b[0m\u001b[1;33m\u001b[0m\u001b[0m\n\u001b[0;32m---> 20\u001b[0;31m     \u001b[0mupdated_files\u001b[0m \u001b[1;33m=\u001b[0m \u001b[0mos\u001b[0m\u001b[1;33m.\u001b[0m\u001b[0mlistdir\u001b[0m\u001b[1;33m(\u001b[0m\u001b[0mdir_path\u001b[0m\u001b[1;33m)\u001b[0m\u001b[1;33m\u001b[0m\u001b[0m\n\u001b[0m\u001b[1;32m     21\u001b[0m     \u001b[1;32mif\u001b[0m \u001b[0msorted\u001b[0m\u001b[1;33m(\u001b[0m\u001b[0mold_files\u001b[0m\u001b[1;33m)\u001b[0m \u001b[1;33m!=\u001b[0m \u001b[0msorted\u001b[0m\u001b[1;33m(\u001b[0m\u001b[0mupdated_files\u001b[0m\u001b[1;33m)\u001b[0m\u001b[1;33m:\u001b[0m\u001b[1;33m\u001b[0m\u001b[0m\n\u001b[1;32m     22\u001b[0m         \u001b[0mmessage_text\u001b[0m \u001b[1;33m=\u001b[0m \u001b[0mget_updates_as_text\u001b[0m\u001b[1;33m(\u001b[0m\u001b[0mold_files\u001b[0m\u001b[1;33m,\u001b[0m \u001b[0mupdated_files\u001b[0m\u001b[1;33m)\u001b[0m\u001b[1;33m\u001b[0m\u001b[0m\n",
      "\u001b[0;31mKeyboardInterrupt\u001b[0m: "
     ]
    }
   ],
   "source": [
    "# Init the gmail service\n",
    "gmail_service = init_service()\n",
    "\n",
    "# Message parameters\n",
    "sender, to, subject = \"peter.sandberg@visma.com\", \"peter.sandberg@visma.com\", \"Directory updated!\"\n",
    "\n",
    "# Record the start time of monitoring\n",
    "start_time = time()\n",
    "\n",
    "# Define how long to run the monitor (in seconds)\n",
    "max_time = 60\n",
    "\n",
    "# Define the directory to monitor\n",
    "dir_path = \"data\"\n",
    "\n",
    "# All files in the directory at the start\n",
    "old_files = os.listdir(dir_path)\n",
    "\n",
    "while time() - start_time < max_time:\n",
    "    updated_files = os.listdir(dir_path)\n",
    "    if sorted(old_files) != sorted(updated_files):\n",
    "        message_text = get_updates_as_text(old_files, updated_files)\n",
    "        message = create_message(sender, to, subject, message_text)\n",
    "        send_message(gmail_service, message)\n",
    "        old_files = updated_files"
   ]
  }
 ],
 "metadata": {
  "anaconda-cloud": {},
  "kernelspec": {
   "display_name": "Python [conda root]",
   "language": "python",
   "name": "conda-root-py"
  },
  "language_info": {
   "codemirror_mode": {
    "name": "ipython",
    "version": 3
   },
   "file_extension": ".py",
   "mimetype": "text/x-python",
   "name": "python",
   "nbconvert_exporter": "python",
   "pygments_lexer": "ipython3",
   "version": "3.5.2"
  }
 },
 "nbformat": 4,
 "nbformat_minor": 1
}
