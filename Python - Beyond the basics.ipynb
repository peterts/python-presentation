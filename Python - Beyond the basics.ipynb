{
 "cells": [
  {
   "cell_type": "markdown",
   "metadata": {
    "slideshow": {
     "slide_type": "slide"
    }
   },
   "source": [
    "# Outline\n",
    "\n",
    "- Classes"
   ]
  },
  {
   "cell_type": "markdown",
   "metadata": {
    "slideshow": {
     "slide_type": "slide"
    }
   },
   "source": [
    "# Classes"
   ]
  },
  {
   "cell_type": "markdown",
   "metadata": {},
   "source": [
    "Defining classes in Python is done using the following syntax:\n",
    "\n",
    "    class ClassName:\n",
    "        def __init__(self, param1, param2...):\n",
    "            self.param1 = param1\n",
    "            ...\n",
    "        def some_class_method(self, param1, param2...):\n",
    "           ...\n",
    "\n",
    "And creating an instance of the class is done by using:\n",
    "\n",
    "    ClassName(param1, param2 ...)"
   ]
  },
  {
   "cell_type": "markdown",
   "metadata": {
    "slideshow": {
     "slide_type": "subslide"
    }
   },
   "source": [
    "## self"
   ]
  },
  {
   "cell_type": "markdown",
   "metadata": {},
   "source": [
    "- `self` is the reference back to the object on which the method is being called\n",
    "    - similar to `this` in Java/C#/C++\n",
    "- All *object methods* in Python must have `self` as the first parameter"
   ]
  },
  {
   "cell_type": "code",
   "execution_count": 3,
   "metadata": {
    "collapsed": false
   },
   "outputs": [
    {
     "name": "stdout",
     "output_type": "stream",
     "text": [
      "<__main__.A object at 0x000001C1473ADB00>\n",
      "<__main__.A object at 0x000001C1473ADB00>\n"
     ]
    }
   ],
   "source": [
    "class A:\n",
    "    def print_object_ref(self):\n",
    "        print(self)\n",
    "\n",
    "a = A()\n",
    "print(a)\n",
    "a.print_object_ref()"
   ]
  },
  {
   "cell_type": "markdown",
   "metadata": {
    "slideshow": {
     "slide_type": "subslide"
    }
   },
   "source": [
    "## The constructor\n",
    "\n",
    "The constructur in python is the `__init__` method. This is the method being called on creation of an object."
   ]
  },
  {
   "cell_type": "code",
   "execution_count": 13,
   "metadata": {
    "collapsed": false
   },
   "outputs": [
    {
     "name": "stdout",
     "output_type": "stream",
     "text": [
      "Hi, I am an object and I was just created!\n"
     ]
    }
   ],
   "source": [
    "class Person:\n",
    "    def __init__(self):\n",
    "        print(\"Hi, I am an object and I was just created!\")\n",
    "        \n",
    "p = Person()"
   ]
  },
  {
   "cell_type": "markdown",
   "metadata": {},
   "source": [
    "## Static methods and class methods"
   ]
  },
  {
   "cell_type": "markdown",
   "metadata": {},
   "source": [
    "- When creating classes in Python, you will mostly "
   ]
  }
 ],
 "metadata": {
  "celltoolbar": "Slideshow"
 },
 "nbformat": 4,
 "nbformat_minor": 1
}
