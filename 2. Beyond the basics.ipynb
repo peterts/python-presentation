{
 "cells": [
  {
   "cell_type": "markdown",
   "metadata": {
    "slideshow": {
     "slide_type": "slide"
    }
   },
   "source": [
    "![title](https://www.python.org/static/community_logos/python-logo-master-v3-TM.png)\n",
    "\n",
    "# Python - Beyond the Basics\n",
    "### By Peter Sandberg"
   ]
  },
  {
   "cell_type": "markdown",
   "metadata": {
    "slideshow": {
     "slide_type": "slide"
    }
   },
   "source": [
    "# Outline\n",
    "\n",
    "- Classes\n",
    "- User input\n",
    "- Input output \n",
    "- Generators\n",
    "- Lambda methods\n",
    "- Decorators"
   ]
  },
  {
   "cell_type": "markdown",
   "metadata": {
    "slideshow": {
     "slide_type": "slide"
    }
   },
   "source": [
    "# Classes"
   ]
  },
  {
   "cell_type": "markdown",
   "metadata": {},
   "source": [
    "Defining classes in Python is done using the following syntax:\n",
    "\n",
    "    class ClassName:\n",
    "        def __init__(self, param1, param2...):\n",
    "            self.param1 = param1\n",
    "            ...\n",
    "        def some_method(self, param1, param2...):\n",
    "           ...\n",
    "\n",
    "And creating an instance of the class is done by using:\n",
    "\n",
    "    ClassName(param1, param2 ...)"
   ]
  },
  {
   "cell_type": "markdown",
   "metadata": {
    "slideshow": {
     "slide_type": "subslide"
    }
   },
   "source": [
    "## self"
   ]
  },
  {
   "cell_type": "markdown",
   "metadata": {},
   "source": [
    "- `self` is the reference back to the object on which the method is being called\n",
    "- similar to `this` in Java/C#/C++"
   ]
  },
  {
   "cell_type": "code",
   "execution_count": 3,
   "metadata": {
    "collapsed": false
   },
   "outputs": [
    {
     "name": "stdout",
     "output_type": "stream",
     "text": [
      "<__main__.A object at 0x000001C1473ADB00>\n",
      "<__main__.A object at 0x000001C1473ADB00>\n"
     ]
    }
   ],
   "source": [
    "class A:\n",
    "    def print_object_ref(self):\n",
    "        print(self)\n",
    "\n",
    "a = A()\n",
    "print(a)\n",
    "a.print_object_ref()"
   ]
  },
  {
   "cell_type": "markdown",
   "metadata": {
    "slideshow": {
     "slide_type": "subslide"
    }
   },
   "source": [
    "## The constructor\n",
    "\n",
    "The constructur in python is the `__init__` method. This is the method being called on creation of an object."
   ]
  },
  {
   "cell_type": "code",
   "execution_count": 13,
   "metadata": {
    "collapsed": false
   },
   "outputs": [
    {
     "name": "stdout",
     "output_type": "stream",
     "text": [
      "Hi, I am an object and I was just created!\n"
     ]
    }
   ],
   "source": [
    "class Person:\n",
    "    def __init__(self):\n",
    "        print(\"Hi, I am an object and I was just created!\")\n",
    "        \n",
    "p = Person()"
   ]
  },
  {
   "cell_type": "markdown",
   "metadata": {
    "slideshow": {
     "slide_type": "subslide"
    }
   },
   "source": [
    "## Object attributes\n",
    "\n",
    "- All object attributes must be defined/set in the constructor\n",
    "- They are set using the syntax:\n",
    "\n",
    "        self.some_atr = some_value\n",
    "\n",
    "- They are accessed using the syntax:\n",
    "\n",
    "        obj_name.some_atr"
   ]
  },
  {
   "cell_type": "code",
   "execution_count": 1,
   "metadata": {
    "collapsed": false
   },
   "outputs": [
    {
     "data": {
      "text/plain": [
       "'Peter'"
      ]
     },
     "execution_count": 1,
     "metadata": {},
     "output_type": "execute_result"
    }
   ],
   "source": [
    "class Person:\n",
    "    def __init__(self, name2):\n",
    "        self.name = name2\n",
    "        \n",
    "p = Person(\"Peter\")\n",
    "p.name"
   ]
  },
  {
   "cell_type": "markdown",
   "metadata": {
    "slideshow": {
     "slide_type": "subslide"
    }
   },
   "source": [
    "## Class attributes\n",
    "\n",
    "- The class itself may also have some attributes, e.g. to count the number of objects of this class\n",
    "- These attributes are set by listing them below the class header like:\n",
    "\n",
    "        class SomeClass:\n",
    "            some_class_atr = some_value"
   ]
  },
  {
   "cell_type": "code",
   "execution_count": 4,
   "metadata": {
    "collapsed": false
   },
   "outputs": [
    {
     "data": {
      "text/plain": [
       "2"
      ]
     },
     "execution_count": 4,
     "metadata": {},
     "output_type": "execute_result"
    }
   ],
   "source": [
    "class Person:\n",
    "    person_count = 0\n",
    "    def __init__(self):\n",
    "        Person.person_count += 1\n",
    "\n",
    "p1 = Person()\n",
    "p2 = Person()\n",
    "Person.person_count"
   ]
  },
  {
   "cell_type": "markdown",
   "metadata": {
    "slideshow": {
     "slide_type": "subslide"
    }
   },
   "source": [
    "## Object methods\n",
    "\n",
    "- Object methods are methods that may only be called on *instances* of a class\n",
    "- All object methods must have `self` as the first parameter"
   ]
  },
  {
   "cell_type": "code",
   "execution_count": 8,
   "metadata": {
    "collapsed": false
   },
   "outputs": [
    {
     "name": "stdout",
     "output_type": "stream",
     "text": [
      "Hello my name is Peter\n"
     ]
    }
   ],
   "source": [
    "class Person:\n",
    "    def __init__(self, name):\n",
    "        self.name = name\n",
    "    def say_name(self):\n",
    "        print(\"Hello my name is {}\".format(self.name))\n",
    "\n",
    "p = Person(\"Peter\")\n",
    "p.say_name()"
   ]
  },
  {
   "cell_type": "markdown",
   "metadata": {
    "slideshow": {
     "slide_type": "subslide"
    }
   },
   "source": [
    "## Class methods and static methods"
   ]
  },
  {
   "cell_type": "markdown",
   "metadata": {},
   "source": [
    "- When creating classes in Python, you will mostly use object methods, which have *self* as the first parameter\n",
    "- However, two other types of methods are also available:\n",
    "    - **class methods**: these belong to the *class* and must have *cls* as the first parameter\n",
    "    - **static methods**: these are independent of the class and the object, and does not need any particular first parameter\n",
    "- Both types of methods need to be annotaed in a special way"
   ]
  },
  {
   "cell_type": "markdown",
   "metadata": {
    "slideshow": {
     "slide_type": "subslide"
    }
   },
   "source": [
    "### Class methods"
   ]
  },
  {
   "cell_type": "code",
   "execution_count": 10,
   "metadata": {
    "collapsed": false
   },
   "outputs": [
    {
     "name": "stdout",
     "output_type": "stream",
     "text": [
      "Storing attributes for a person\n"
     ]
    }
   ],
   "source": [
    "class Person:\n",
    "    description = \"Storing attributes for a person\"\n",
    "    @classmethod\n",
    "    def print_class_description(cls):\n",
    "        print(cls.description)\n",
    "\n",
    "Person.print_class_description()"
   ]
  },
  {
   "cell_type": "markdown",
   "metadata": {},
   "source": [
    "### Static methods"
   ]
  },
  {
   "cell_type": "code",
   "execution_count": 11,
   "metadata": {
    "collapsed": false
   },
   "outputs": [
    {
     "name": "stdout",
     "output_type": "stream",
     "text": [
      "Hello\n"
     ]
    }
   ],
   "source": [
    "class Person:\n",
    "    @staticmethod\n",
    "    def say_hello():\n",
    "        print(\"Hello\")\n",
    "        \n",
    "Person.say_hello()"
   ]
  },
  {
   "cell_type": "markdown",
   "metadata": {
    "slideshow": {
     "slide_type": "subslide"
    }
   },
   "source": [
    "## Property methods\n",
    "\n",
    "- You may want to generate or compute a particular object attribute at the time the attribute is accessed\n",
    "- This can be done by creating a *method* for the attribute and anotating it using `@property`"
   ]
  },
  {
   "cell_type": "code",
   "execution_count": 13,
   "metadata": {
    "collapsed": false
   },
   "outputs": [
    {
     "data": {
      "text/plain": [
       "0.3333333333333333"
      ]
     },
     "execution_count": 13,
     "metadata": {},
     "output_type": "execute_result"
    }
   ],
   "source": [
    "class Fraction:\n",
    "    def __init__(self, numerator, denominator):\n",
    "        self.numerator = numerator\n",
    "        self.denominator = denominator \n",
    "    @property\n",
    "    def float_value(self):\n",
    "        return self.numerator/self.denominator\n",
    "    \n",
    "a = Fraction(1,3)\n",
    "a.float_value"
   ]
  },
  {
   "cell_type": "markdown",
   "metadata": {
    "slideshow": {
     "slide_type": "subslide"
    }
   },
   "source": [
    "## Private attributes and methods\n",
    "\n",
    "Private attributes and methods start with *a single* underscore (`_`). These attributes and methods *should* only be accessed from within the class/object:"
   ]
  },
  {
   "cell_type": "code",
   "execution_count": 60,
   "metadata": {
    "collapsed": false
   },
   "outputs": [
    {
     "data": {
      "text/plain": [
       "0"
      ]
     },
     "execution_count": 60,
     "metadata": {},
     "output_type": "execute_result"
    }
   ],
   "source": [
    "class SomeClass:\n",
    "    def __init__(self):\n",
    "        self._priv_attribute = 0\n",
    "    def _priv_method(self):\n",
    "        self._priv_attribute += 1\n",
    "\n",
    "x = SomeClass()\n",
    "# This is possible, but should not be done, as the attribute is defined as private\n",
    "x._priv_attribute"
   ]
  },
  {
   "cell_type": "markdown",
   "metadata": {
    "slideshow": {
     "slide_type": "subslide"
    }
   },
   "source": [
    "## Hidden attributes and methods\n",
    "\n",
    "Hidden attributes and methods start with *a double* underscore (`__`). These attributes and methods *cannot* be accessed from outside the class/object:"
   ]
  },
  {
   "cell_type": "code",
   "execution_count": 15,
   "metadata": {
    "collapsed": false
   },
   "outputs": [
    {
     "ename": "AttributeError",
     "evalue": "'SomeClass' object has no attribute '__hidden_attribute'",
     "output_type": "error",
     "traceback": [
      "\u001b[0;31m---------------------------------------------------------------------------\u001b[0m",
      "\u001b[0;31mAttributeError\u001b[0m                            Traceback (most recent call last)",
      "\u001b[0;32m<ipython-input-15-3a268d3921f5>\u001b[0m in \u001b[0;36m<module>\u001b[0;34m()\u001b[0m\n\u001b[1;32m      4\u001b[0m \u001b[1;33m\u001b[0m\u001b[0m\n\u001b[1;32m      5\u001b[0m \u001b[0mx\u001b[0m \u001b[1;33m=\u001b[0m \u001b[0mSomeClass\u001b[0m\u001b[1;33m(\u001b[0m\u001b[1;33m)\u001b[0m\u001b[1;33m\u001b[0m\u001b[0m\n\u001b[0;32m----> 6\u001b[0;31m \u001b[0mx\u001b[0m\u001b[1;33m.\u001b[0m\u001b[0m__hidden_attribute\u001b[0m\u001b[1;33m\u001b[0m\u001b[0m\n\u001b[0m",
      "\u001b[0;31mAttributeError\u001b[0m: 'SomeClass' object has no attribute '__hidden_attribute'"
     ]
    }
   ],
   "source": [
    "class SomeClass:\n",
    "    def __init__(self):\n",
    "        self.__hidden_attribute = 0\n",
    "\n",
    "x = SomeClass()\n",
    "x.__hidden_attribute"
   ]
  },
  {
   "cell_type": "markdown",
   "metadata": {
    "slideshow": {
     "slide_type": "subslide"
    }
   },
   "source": [
    "## To-string\n",
    "\n",
    "The to-string method in Python is called `__str__`"
   ]
  },
  {
   "cell_type": "code",
   "execution_count": 30,
   "metadata": {
    "collapsed": false
   },
   "outputs": [
    {
     "name": "stdout",
     "output_type": "stream",
     "text": [
      "Peter\n"
     ]
    }
   ],
   "source": [
    "class Person:\n",
    "    def __init__(self, name):\n",
    "        self.name = name\n",
    "    def __str__(self):\n",
    "        return self.name\n",
    "        \n",
    "p = Person(\"Peter\")\n",
    "print(p)"
   ]
  },
  {
   "cell_type": "markdown",
   "metadata": {
    "slideshow": {
     "slide_type": "subslide"
    }
   },
   "source": [
    "## Creating comparable objects"
   ]
  },
  {
   "cell_type": "markdown",
   "metadata": {},
   "source": [
    "The following methods may be implemented to make comparison work on custom classes:\n",
    "- `__eq__`: equal (==)\n",
    "- `__ne__`: not equal (!=)\n",
    "- `__gt__`: greater than (>)\n",
    "- `__lt__`: less than (<),\n",
    "- `__ge__`: greater than or equal (>=)\n",
    "- `__le__`: less than or equal (<=)"
   ]
  },
  {
   "cell_type": "markdown",
   "metadata": {
    "slideshow": {
     "slide_type": "subslide"
    }
   },
   "source": [
    "### Example - Comparing Fractions"
   ]
  },
  {
   "cell_type": "code",
   "execution_count": 45,
   "metadata": {
    "collapsed": false
   },
   "outputs": [
    {
     "data": {
      "text/plain": [
       "True"
      ]
     },
     "execution_count": 45,
     "metadata": {},
     "output_type": "execute_result"
    }
   ],
   "source": [
    "class Fraction:\n",
    "    def __init__(self, numerator, denominator):\n",
    "        self.float_value = numerator/denominator\n",
    "    def __gt__(self, other): \n",
    "        return self.float_value > other.float_value\n",
    "    \n",
    "a = Fraction(1,3)\n",
    "b = Fraction(1,4)\n",
    "a > b"
   ]
  },
  {
   "cell_type": "markdown",
   "metadata": {
    "slideshow": {
     "slide_type": "subslide"
    }
   },
   "source": [
    "## Mathematical operators on custom classes"
   ]
  },
  {
   "cell_type": "markdown",
   "metadata": {},
   "source": [
    "You can make common mathematical operations work on custom classes by implementing the following methods:\n",
    "- `__add__`: addition (+)\n",
    "- `__sub__` subtraction (-)\n",
    "- `__mul__` multiplication (`*`)\n",
    "\n",
    "Methods for all the other operators also exist"
   ]
  },
  {
   "cell_type": "markdown",
   "metadata": {
    "slideshow": {
     "slide_type": "subslide"
    }
   },
   "source": [
    "### Example - Adding Fractions"
   ]
  },
  {
   "cell_type": "code",
   "execution_count": 47,
   "metadata": {
    "collapsed": false
   },
   "outputs": [
    {
     "name": "stdout",
     "output_type": "stream",
     "text": [
      "7/12\n"
     ]
    }
   ],
   "source": [
    "from math import gcd\n",
    "\n",
    "class Fraction:\n",
    "    def __init__(self, num, denom):\n",
    "        self.num = int(num)\n",
    "        self.denom = int(denom)\n",
    "    def __add__(self, other):\n",
    "        if self.denom == other.denom:\n",
    "            return Fraction(self.num+other.num, self.denom)\n",
    "        num = self.num * other.denom + other.num * self.denom\n",
    "        denom = self.denom * other.denom\n",
    "        _gcd = gcd(num, denom)\n",
    "        return Fraction(num/_gcd, denom/_gcd)\n",
    "    def __str__(self):\n",
    "        return \"{}/{}\".format(self.num, self.denom)\n",
    "    \n",
    "a = Fraction(1, 3)\n",
    "b = Fraction(1, 4)\n",
    "print(a + b)   "
   ]
  },
  {
   "cell_type": "markdown",
   "metadata": {
    "slideshow": {
     "slide_type": "subslide"
    }
   },
   "source": [
    "## Iterable objects"
   ]
  },
  {
   "cell_type": "markdown",
   "metadata": {},
   "source": [
    "- To create iterable objects, the `__iter__` method method must be implemented\n",
    "- If the iterator is the class itself, then the method `__next__` must be implemented"
   ]
  },
  {
   "cell_type": "code",
   "execution_count": 17,
   "metadata": {
    "collapsed": false
   },
   "outputs": [
    {
     "name": "stdout",
     "output_type": "stream",
     "text": [
      "Huey\n",
      "Dewey\n",
      "Louie\n"
     ]
    }
   ],
   "source": [
    "class NameList:\n",
    "    def __init__(self, *names):\n",
    "        self.names = names\n",
    "    def __iter__(self):\n",
    "        return iter(self.names)\n",
    "\n",
    "name_list = NameList(\"Huey\", \"Dewey\", \"Louie\")\n",
    "for name in name_list:\n",
    "    print(name)"
   ]
  },
  {
   "cell_type": "markdown",
   "metadata": {
    "slideshow": {
     "slide_type": "subslide"
    }
   },
   "source": [
    "## Inheritance"
   ]
  },
  {
   "cell_type": "markdown",
   "metadata": {},
   "source": [
    "Inheriting from a class is done by naming the parent class(es) in a parantheses right after the class name:\n",
    "\n",
    "    class SomeClass(ParentClass):\n",
    "        ...\n",
    "\n",
    "Initalization of the parent class can then be done by one of the two following:\n",
    "\n",
    "    super().__init__(param1, param2, ...)\n",
    "    ParentClass.__init__(self, param1, param2, ...)\n",
    "    "
   ]
  },
  {
   "cell_type": "code",
   "execution_count": 18,
   "metadata": {
    "collapsed": false,
    "slideshow": {
     "slide_type": "subslide"
    }
   },
   "outputs": [
    {
     "name": "stdout",
     "output_type": "stream",
     "text": [
      "Snoop: Woff!\n"
     ]
    }
   ],
   "source": [
    "class Pet:\n",
    "    def __init__(self, name):\n",
    "        self.name = name\n",
    "\n",
    "class Dog(Pet):\n",
    "    def __init__(self, name):\n",
    "        Pet.__init__(self, name)\n",
    "    def bark(self):\n",
    "        print(\"{}: Woff!\".format(self.name))\n",
    "        \n",
    "dog = Dog(\"Snoop\")\n",
    "dog.bark()"
   ]
  },
  {
   "cell_type": "markdown",
   "metadata": {
    "slideshow": {
     "slide_type": "subslide"
    }
   },
   "source": [
    "### Multiple inheritance\n",
    "\n",
    "Inheriting from multiple classes is also possible in Python"
   ]
  },
  {
   "cell_type": "code",
   "execution_count": 19,
   "metadata": {
    "collapsed": false
   },
   "outputs": [
    {
     "data": {
      "text/plain": [
       "2"
      ]
     },
     "execution_count": 19,
     "metadata": {},
     "output_type": "execute_result"
    }
   ],
   "source": [
    "class A:\n",
    "    def __init__(self, a):\n",
    "        self.a = a\n",
    "\n",
    "class B:\n",
    "    def __init__(self, b):\n",
    "        self.b = b\n",
    "        \n",
    "class C(A, B):\n",
    "    def __init__(self, a, b):\n",
    "        A.__init__(self, a)\n",
    "        B.__init__(self, b)\n",
    "        \n",
    "c = C(1, 2)\n",
    "c.b"
   ]
  },
  {
   "cell_type": "markdown",
   "metadata": {
    "slideshow": {
     "slide_type": "subslide"
    }
   },
   "source": [
    "## Documenting classes\n",
    "\n",
    "Documenting classes works in the same way as documenting of methods - you put a string right below the class header"
   ]
  },
  {
   "cell_type": "code",
   "execution_count": 68,
   "metadata": {
    "collapsed": false
   },
   "outputs": [
    {
     "data": {
      "text/plain": [
       "'Storing attributes for a person'"
      ]
     },
     "execution_count": 68,
     "metadata": {},
     "output_type": "execute_result"
    }
   ],
   "source": [
    "class Person:\n",
    "    \"\"\"Storing attributes for a person\"\"\"\n",
    "    pass\n",
    "\n",
    "p = Person()\n",
    "p.__doc__"
   ]
  },
  {
   "cell_type": "markdown",
   "metadata": {
    "slideshow": {
     "slide_type": "slide"
    }
   },
   "source": [
    "# User Input\n",
    "\n",
    "If you want to interact with a user, through the console, use the `input` method "
   ]
  },
  {
   "cell_type": "code",
   "execution_count": 20,
   "metadata": {
    "collapsed": false
   },
   "outputs": [
    {
     "name": "stdout",
     "output_type": "stream",
     "text": [
      "Hi. What is your name?\n",
      "Peter\n",
      "Hello, Peter\n"
     ]
    }
   ],
   "source": [
    "name = input(\"Hi. What is your name?\\n\")\n",
    "print(\"Hello, {}\".format(name))"
   ]
  },
  {
   "cell_type": "markdown",
   "metadata": {
    "slideshow": {
     "slide_type": "subslide"
    }
   },
   "source": [
    "## Secret input\n",
    "\n",
    "The `getpass` method from the `getpass` module may be used to get secret input"
   ]
  },
  {
   "cell_type": "code",
   "execution_count": 21,
   "metadata": {
    "collapsed": false,
    "scrolled": true
   },
   "outputs": [
    {
     "name": "stdout",
     "output_type": "stream",
     "text": [
      "Username: peter\n",
      "Password: ········\n"
     ]
    }
   ],
   "source": [
    "from getpass import getpass\n",
    "\n",
    "user = input(\"Username: \")\n",
    "pwd = getpass(\"Password: \")"
   ]
  },
  {
   "cell_type": "markdown",
   "metadata": {
    "slideshow": {
     "slide_type": "slide"
    }
   },
   "source": [
    "# Input-output\n",
    "\n",
    "Opening files for reading or writing is done using the `open` method:\n",
    "\n",
    "    open(file_path, mode)\n",
    "\n",
    "The most commonly used modes are 'r' for reading and 'w' for writing . All possible modes can be read about [here](http://stackoverflow.com/questions/1466000/python-open-built-in-function-difference-between-modes-a-a-w-w-and-r)."
   ]
  },
  {
   "cell_type": "markdown",
   "metadata": {
    "slideshow": {
     "slide_type": "subslide"
    }
   },
   "source": [
    "## Reading a file\n",
    "\n",
    "- Reading the whole file is done using `.read()`\n",
    "- You can also use `.read(num_bytes)` if you want to read only the `num_bytes` next bytes"
   ]
  },
  {
   "cell_type": "code",
   "execution_count": 2,
   "metadata": {
    "collapsed": false
   },
   "outputs": [
    {
     "data": {
      "text/plain": [
       "'Lorem ipsum'"
      ]
     },
     "execution_count": 2,
     "metadata": {},
     "output_type": "execute_result"
    }
   ],
   "source": [
    "f = open('data/sample_text.txt', 'r')\n",
    "f.read(11)"
   ]
  },
  {
   "cell_type": "markdown",
   "metadata": {
    "slideshow": {
     "slide_type": "subslide"
    }
   },
   "source": [
    "### Note about file paths\n",
    "\n",
    "- When creating file paths in Python, you should always use **os.path.join** to create the path\n",
    "- If you do this, you ensure that the path will be correct on all file systems (windows, linux, osx etc.)"
   ]
  },
  {
   "cell_type": "code",
   "execution_count": 25,
   "metadata": {
    "collapsed": false
   },
   "outputs": [
    {
     "data": {
      "text/plain": [
       "'data\\\\sample_text.txt'"
      ]
     },
     "execution_count": 25,
     "metadata": {},
     "output_type": "execute_result"
    }
   ],
   "source": [
    "import os\n",
    "os.path.join(\"data\", \"sample_text.txt\")"
   ]
  },
  {
   "cell_type": "markdown",
   "metadata": {
    "slideshow": {
     "slide_type": "subslide"
    }
   },
   "source": [
    "### Getting and moving the pointer"
   ]
  },
  {
   "cell_type": "markdown",
   "metadata": {},
   "source": [
    "To get the position in the file, use `.tell()`"
   ]
  },
  {
   "cell_type": "code",
   "execution_count": 26,
   "metadata": {
    "collapsed": false
   },
   "outputs": [
    {
     "data": {
      "text/plain": [
       "11"
      ]
     },
     "execution_count": 26,
     "metadata": {},
     "output_type": "execute_result"
    }
   ],
   "source": [
    "f.tell()"
   ]
  },
  {
   "cell_type": "markdown",
   "metadata": {},
   "source": [
    "To move the pointer to a specific bytem, use `.seek(byte_num)`"
   ]
  },
  {
   "cell_type": "code",
   "execution_count": 12,
   "metadata": {
    "collapsed": false
   },
   "outputs": [
    {
     "data": {
      "text/plain": [
       "'Lorem ipsum'"
      ]
     },
     "execution_count": 12,
     "metadata": {},
     "output_type": "execute_result"
    }
   ],
   "source": [
    "f.seek(0) # Moves back to the beginning of the file\n",
    "f.read(11)"
   ]
  },
  {
   "cell_type": "markdown",
   "metadata": {
    "slideshow": {
     "slide_type": "subslide"
    }
   },
   "source": [
    "### Reading lines"
   ]
  },
  {
   "cell_type": "markdown",
   "metadata": {
    "slideshow": {
     "slide_type": "-"
    }
   },
   "source": [
    "If you want to read the next line, use `.readline()`"
   ]
  },
  {
   "cell_type": "code",
   "execution_count": 14,
   "metadata": {
    "collapsed": false
   },
   "outputs": [
    {
     "data": {
      "text/plain": [
       "'Lorem ipsum dolor sit amet, consectetur adipiscing elit. \\n'"
      ]
     },
     "execution_count": 14,
     "metadata": {},
     "output_type": "execute_result"
    }
   ],
   "source": [
    "f.seek(0)\n",
    "f.readline()"
   ]
  },
  {
   "cell_type": "markdown",
   "metadata": {},
   "source": [
    "Or alternatively:"
   ]
  },
  {
   "cell_type": "code",
   "execution_count": 49,
   "metadata": {
    "collapsed": false
   },
   "outputs": [
    {
     "data": {
      "text/plain": [
       "'Lorem ipsum dolor sit amet, consectetur adipiscing elit. \\n'"
      ]
     },
     "execution_count": 49,
     "metadata": {},
     "output_type": "execute_result"
    }
   ],
   "source": [
    "f.seek(0)\n",
    "next(f)"
   ]
  },
  {
   "cell_type": "markdown",
   "metadata": {
    "slideshow": {
     "slide_type": "subslide"
    }
   },
   "source": [
    "If you want to read all lines as a list you can use `.readlines()`"
   ]
  },
  {
   "cell_type": "code",
   "execution_count": 28,
   "metadata": {
    "collapsed": false
   },
   "outputs": [
    {
     "data": {
      "text/plain": [
       "['Lorem ipsum dolor sit amet, consectetur adipiscing elit. \\n',\n",
       " 'Aliquam ex ligula, eleifend at molestie ut, vulputate non enim. \\n']"
      ]
     },
     "execution_count": 28,
     "metadata": {},
     "output_type": "execute_result"
    }
   ],
   "source": [
    "f.seek(0)\n",
    "f.readlines()[:2]"
   ]
  },
  {
   "cell_type": "markdown",
   "metadata": {
    "slideshow": {
     "slide_type": "-"
    }
   },
   "source": [
    "Or alternatively, you may just convert the file-object to a list-object using `list(file)`"
   ]
  },
  {
   "cell_type": "code",
   "execution_count": 3,
   "metadata": {
    "collapsed": false
   },
   "outputs": [
    {
     "data": {
      "text/plain": [
       "['Lorem ipsum dolor sit amet, consectetur adipiscing elit. \\n',\n",
       " 'Aliquam ex ligula, eleifend at molestie ut, vulputate non enim. \\n']"
      ]
     },
     "execution_count": 3,
     "metadata": {},
     "output_type": "execute_result"
    }
   ],
   "source": [
    "f.seek(0)\n",
    "list(f)[:2]"
   ]
  },
  {
   "cell_type": "markdown",
   "metadata": {
    "slideshow": {
     "slide_type": "subslide"
    }
   },
   "source": [
    "Often, you just want to iterate over all the lines in a file. This is actually the *default behaviour if you iterate over the file object*"
   ]
  },
  {
   "cell_type": "code",
   "execution_count": 22,
   "metadata": {
    "collapsed": false
   },
   "outputs": [
    {
     "name": "stdout",
     "output_type": "stream",
     "text": [
      "Lorem ipsum dolor sit amet, consectetur adipiscing elit.\n",
      "Aliquam ex ligula, eleifend at molestie ut, vulputate non enim.\n",
      "Orci varius natoque penatibus et magnis dis parturient montes, nascetur ridiculus mus.\n",
      "Etiam ut ultricies sem, non accumsan tortor.\n",
      "Vestibulum diam nisl, sodales eu congue eget, convallis non nibh.\n",
      "Etiam aliquam mollis odio, vel molestie lectus venenatis vel.\n",
      "Phasellus viverra bibendum erat at laoreet.\n",
      "Etiam metus neque, tempus at sapien ut, sodales luctus ipsum.\n",
      "Aliquam vel urna maximus purus interdum ultrices eget sed sapien.\n",
      "Nam interdum quam sit amet ligula volutpat suscipit.\n"
     ]
    }
   ],
   "source": [
    "f.seek(0)\n",
    "for line in f:\n",
    "    print(line.strip())"
   ]
  },
  {
   "cell_type": "markdown",
   "metadata": {
    "slideshow": {
     "slide_type": "subslide"
    }
   },
   "source": [
    "## Closing the file\n",
    "\n",
    "When your finished with reading the file, close it"
   ]
  },
  {
   "cell_type": "code",
   "execution_count": 4,
   "metadata": {
    "collapsed": true
   },
   "outputs": [],
   "source": [
    "f.close()"
   ]
  },
  {
   "cell_type": "markdown",
   "metadata": {
    "slideshow": {
     "slide_type": "subslide"
    }
   },
   "source": [
    "## Writing to a file\n",
    "\n",
    "Two main modes for writing:\n",
    "- **'w'**: Create the file if it does not already exists. If it exists, truncate the file.\n",
    "- **'a'**: Create the file if it does not already exiist. If it exists, start writing at the end of the file."
   ]
  },
  {
   "cell_type": "code",
   "execution_count": 28,
   "metadata": {
    "collapsed": false
   },
   "outputs": [
    {
     "name": "stdout",
     "output_type": "stream",
     "text": [
      "This is cool\n",
      "This is also cool\n",
      "\n"
     ]
    }
   ],
   "source": [
    "file_path = \"data/sample_text2.txt\"\n",
    "\n",
    "f = open(file_path, 'w')\n",
    "f.write(\"This is cool\\n\")\n",
    "f.close()\n",
    "\n",
    "f = open(file_path, 'a')\n",
    "f.write(\"This is also cool\\n\")\n",
    "f.close()\n",
    "\n",
    "f = open(file_path, 'r')\n",
    "print(f.read())\n",
    "f.close()"
   ]
  },
  {
   "cell_type": "markdown",
   "metadata": {
    "slideshow": {
     "slide_type": "subslide"
    }
   },
   "source": [
    "# Context managers\n",
    "\n",
    "- When working with resources, you often need to do some stuff when you're finished with the resource\n",
    "    - E.g. the file connection should be closed when you're finished with the file\n",
    "- Exceptions may be cast while working with the resource, so managing the resource may be a pain in the a`**` in production settings\n",
    "- In other languages, fixing this problem is done using `try...except...finally`\n",
    "- This is also possible in Python, but Python also provides **context managers** which ensure that the resource is managed correctly, no matter what happens"
   ]
  },
  {
   "cell_type": "markdown",
   "metadata": {
    "slideshow": {
     "slide_type": "subslide"
    }
   },
   "source": [
    "## Context manager for IO\n",
    "\n",
    "**This is the way you should actually work with files in Python**"
   ]
  },
  {
   "cell_type": "code",
   "execution_count": 31,
   "metadata": {
    "collapsed": false
   },
   "outputs": [
    {
     "name": "stdout",
     "output_type": "stream",
     "text": [
      "Lorem ipsum dolor sit amet, consectetur adipiscing elit.\n",
      "Aliquam ex ligula, eleifend at molestie ut, vulputate non enim.\n",
      "Orci varius natoque penatibus et magnis dis parturient montes, nascetur ridiculus mus.\n",
      "Etiam ut ultricies sem, non accumsan tortor.\n",
      "Vestibulum diam nisl, sodales eu congue eget, convallis non nibh.\n",
      "Etiam aliquam mollis odio, vel molestie lectus venenatis vel.\n",
      "Phasellus viverra bibendum erat at laoreet.\n",
      "Etiam metus neque, tempus at sapien ut, sodales luctus ipsum.\n",
      "Aliquam vel urna maximus purus interdum ultrices eget sed sapien.\n",
      "Nam interdum quam sit amet ligula volutpat suscipit.\n"
     ]
    }
   ],
   "source": [
    "with open(\"data/sample_text.txt\") as f:\n",
    "    for line in f:\n",
    "        print(line.strip())"
   ]
  },
  {
   "cell_type": "markdown",
   "metadata": {},
   "source": [
    "Other context managers, and ways to create your own can be read about [here](https://jeffknupp.com/blog/2016/03/07/python-with-context-managers/)"
   ]
  },
  {
   "cell_type": "markdown",
   "metadata": {
    "slideshow": {
     "slide_type": "slide"
    }
   },
   "source": [
    "# Generators\n",
    "\n",
    "- Some times you want to iterate through a sequence of values, but *you do not want all values to be generated in memory prior to iterating*\n",
    "- The reason may be that you will only iterate through a subset of this sequence, and generating all values is therefore very inefficeient"
   ]
  },
  {
   "cell_type": "markdown",
   "metadata": {
    "slideshow": {
     "slide_type": "subslide"
    }
   },
   "source": [
    "## Generator Class"
   ]
  },
  {
   "cell_type": "markdown",
   "metadata": {},
   "source": [
    "A generator could be just an iterable class"
   ]
  },
  {
   "cell_type": "code",
   "execution_count": 107,
   "metadata": {
    "collapsed": true
   },
   "outputs": [],
   "source": [
    "class CharGenerator:\n",
    "    def __init__(self, start_char='a', end_char='z'):\n",
    "        self.i = ord(start_char)\n",
    "        self.i_stop = ord(end_char)\n",
    "    def __iter__(self):\n",
    "        return self\n",
    "    def __next__(self):\n",
    "        if self.i > self.i_stop:\n",
    "            raise StopIteration\n",
    "        self.i += 1\n",
    "        return chr(self.i-1)"
   ]
  },
  {
   "cell_type": "markdown",
   "metadata": {},
   "source": [
    "And iterating over an object of the class can be done like"
   ]
  },
  {
   "cell_type": "code",
   "execution_count": 108,
   "metadata": {
    "collapsed": false
   },
   "outputs": [
    {
     "name": "stdout",
     "output_type": "stream",
     "text": [
      "a\n",
      "b\n",
      "c\n"
     ]
    }
   ],
   "source": [
    "for c in CharGenerator(end_char='c'):\n",
    "    print(c)"
   ]
  },
  {
   "cell_type": "markdown",
   "metadata": {
    "slideshow": {
     "slide_type": "subslide"
    }
   },
   "source": [
    "## Generator method\n",
    "\n",
    "However, Python provides a shortcut for creating generators, which are methods that 'yield' values rather than returning values"
   ]
  },
  {
   "cell_type": "code",
   "execution_count": 109,
   "metadata": {
    "collapsed": false
   },
   "outputs": [],
   "source": [
    "def char_generator(start_char='a', end_char='z'):\n",
    "    for i in range(ord(start_char), ord(end_char)+1):\n",
    "        yield chr(i)"
   ]
  },
  {
   "cell_type": "markdown",
   "metadata": {},
   "source": [
    "Iterating through the alphabet"
   ]
  },
  {
   "cell_type": "code",
   "execution_count": 105,
   "metadata": {
    "collapsed": false
   },
   "outputs": [
    {
     "name": "stdout",
     "output_type": "stream",
     "text": [
      "a\n",
      "b\n",
      "c\n"
     ]
    }
   ],
   "source": [
    "for c in alphabet_generator(end_char='c'):\n",
    "    print(c)"
   ]
  },
  {
   "cell_type": "markdown",
   "metadata": {
    "slideshow": {
     "slide_type": "subslide"
    }
   },
   "source": [
    "### Example - A Prime Number Generator"
   ]
  },
  {
   "cell_type": "code",
   "execution_count": 33,
   "metadata": {
    "collapsed": false
   },
   "outputs": [],
   "source": [
    "def is_prime(n):\n",
    "    \"\"\"Returns True if n is a prime number, else False\"\"\"\n",
    "    if n <= 1:\n",
    "        return False\n",
    "    if n <= 3:\n",
    "        return True\n",
    "    if n % 2 == 0 or n % 3 == 0:\n",
    "        return False\n",
    "    i, w = 5, 2\n",
    "    while i*i <= n:\n",
    "        if n % i == 0: \n",
    "            return False\n",
    "        i += w\n",
    "        w = 6 - w\n",
    "    return True\n",
    "\n",
    "def prime_number_gen(m):\n",
    "    \"\"\"Generates the m first prime numbers\"\"\"\n",
    "    n = 0\n",
    "    for _ in range(m):\n",
    "        while not is_prime(n):\n",
    "            n += 1\n",
    "        yield n\n",
    "        n += 1"
   ]
  },
  {
   "cell_type": "code",
   "execution_count": 35,
   "metadata": {
    "collapsed": false
   },
   "outputs": [
    {
     "data": {
      "text/plain": [
       "[2, 3, 5, 7, 11, 13, 17, 19, 23, 29, 31, 37, 41, 43, 47, 53, 59, 61, 67, 71]"
      ]
     },
     "execution_count": 35,
     "metadata": {},
     "output_type": "execute_result"
    }
   ],
   "source": [
    "[p for p in prime_number_gen(20)]"
   ]
  },
  {
   "cell_type": "markdown",
   "metadata": {
    "slideshow": {
     "slide_type": "slide"
    }
   },
   "source": [
    "# Lambda Methods\n",
    "\n",
    "- Some times, it is very useful to be able to create methods in a single line\n",
    "- For this purpose, Python provides lambda functions\n",
    "- A lambda function is created using the following syntax\n",
    "\n",
    "        lambda param1, param2 ...: <create the return value here>"
   ]
  },
  {
   "cell_type": "markdown",
   "metadata": {
    "slideshow": {
     "slide_type": "subslide"
    }
   },
   "source": [
    "## Example - Lambda for adding numbers"
   ]
  },
  {
   "cell_type": "code",
   "execution_count": 36,
   "metadata": {
    "collapsed": false
   },
   "outputs": [
    {
     "data": {
      "text/plain": [
       "6"
      ]
     },
     "execution_count": 36,
     "metadata": {},
     "output_type": "execute_result"
    }
   ],
   "source": [
    "add = lambda x, y, z: x + y + z\n",
    "add(1, 2, 3)"
   ]
  },
  {
   "cell_type": "markdown",
   "metadata": {
    "slideshow": {
     "slide_type": "subslide"
    }
   },
   "source": [
    "## Example - Lambda for sorting\n",
    "\n",
    "- A natural place to use lambda functions is in the `sorted` method\n",
    "- To sort by the second name, the following lambda function may be used"
   ]
  },
  {
   "cell_type": "code",
   "execution_count": 5,
   "metadata": {
    "collapsed": false
   },
   "outputs": [
    {
     "data": {
      "text/plain": [
       "['Bjarne Arnesen', 'Arne Bjarnesen', 'Didrik Carlsen', 'Carl Didriksen']"
      ]
     },
     "execution_count": 5,
     "metadata": {},
     "output_type": "execute_result"
    }
   ],
   "source": [
    "a_list = [\"Arne Bjarnesen\", \"Bjarne Arnesen\", \"Carl Didriksen\", \"Didrik Carlsen\"]\n",
    "sorted(a_list, key=lambda x: x.split(\" \")[1])"
   ]
  },
  {
   "cell_type": "markdown",
   "metadata": {
    "slideshow": {
     "slide_type": "slide"
    }
   },
   "source": [
    "# Decorators\n",
    "\n",
    "- Some times, you would like to run some operations prior to executing a method, and/or after having executed a method\n",
    "- Usig a decorator is useful e.g. if you would like to ...\n",
    "    - time the execution of a method\n",
    "    - check the type of the input to a method\n",
    "    - memorize which arguments a method has been called with\n",
    "    - keep track of how many times a method has been executed"
   ]
  },
  {
   "cell_type": "markdown",
   "metadata": {
    "slideshow": {
     "slide_type": "subslide"
    }
   },
   "source": [
    "## Some stuff you need to know"
   ]
  },
  {
   "cell_type": "markdown",
   "metadata": {},
   "source": [
    "Python methods may contain inner methods"
   ]
  },
  {
   "cell_type": "code",
   "execution_count": 39,
   "metadata": {
    "collapsed": false
   },
   "outputs": [
    {
     "name": "stdout",
     "output_type": "stream",
     "text": [
      "Hi, I am the parent method\n",
      "Hi, I am the child method\n"
     ]
    }
   ],
   "source": [
    "def parent_method():\n",
    "    def child_method():\n",
    "        print(\"Hi, I am the child method\")\n",
    "    print(\"Hi, I am the parent method\")\n",
    "    child_method()\n",
    "    \n",
    "parent_method()"
   ]
  },
  {
   "cell_type": "markdown",
   "metadata": {
    "slideshow": {
     "slide_type": "subslide"
    }
   },
   "source": [
    "Methods may return other methods"
   ]
  },
  {
   "cell_type": "code",
   "execution_count": 42,
   "metadata": {
    "collapsed": false
   },
   "outputs": [
    {
     "data": {
      "text/plain": [
       "3"
      ]
     },
     "execution_count": 42,
     "metadata": {},
     "output_type": "execute_result"
    }
   ],
   "source": [
    "def get_increment_func():\n",
    "    def increment(x):\n",
    "        return x + 1\n",
    "    return increment\n",
    "\n",
    "increment = get_increment_func()\n",
    "increment(2)"
   ]
  },
  {
   "cell_type": "markdown",
   "metadata": {
    "slideshow": {
     "slide_type": "subslide"
    }
   },
   "source": [
    "And from earlier, you should remember that methods may take other methods as parameters"
   ]
  },
  {
   "cell_type": "code",
   "execution_count": 139,
   "metadata": {
    "collapsed": false
   },
   "outputs": [
    {
     "data": {
      "text/plain": [
       "3"
      ]
     },
     "execution_count": 139,
     "metadata": {},
     "output_type": "execute_result"
    }
   ],
   "source": [
    "def combine(x, y, combine_func):\n",
    "    return combine_func(x, y)\n",
    "\n",
    "combine(1, 2, lambda x, y: x + y)"
   ]
  },
  {
   "cell_type": "markdown",
   "metadata": {
    "slideshow": {
     "slide_type": "subslide"
    }
   },
   "source": [
    "## Let's create a decorator!\n",
    "\n",
    "A decorator takes a method as an argument, and returns a wrapper method which executes the original method, as well as something before and/or after the original method."
   ]
  },
  {
   "cell_type": "code",
   "execution_count": 145,
   "metadata": {
    "collapsed": true
   },
   "outputs": [],
   "source": [
    "def my_decorator(some_func):\n",
    "    def wrapper():\n",
    "        print(\"<Started executing {}>\".format(some_func.__name__))\n",
    "        some_func()\n",
    "        print(\"<Ended executing {}>\".format(some_func.__name__))\n",
    "    return wrapper"
   ]
  },
  {
   "cell_type": "markdown",
   "metadata": {
    "slideshow": {
     "slide_type": "subslide"
    }
   },
   "source": [
    "## Applying the decorator\n",
    "\n",
    "And to apply the decorator to another method, use the `@` notation"
   ]
  },
  {
   "cell_type": "code",
   "execution_count": 174,
   "metadata": {
    "collapsed": false
   },
   "outputs": [
    {
     "name": "stdout",
     "output_type": "stream",
     "text": [
      "<Started executing greet>\n",
      "Hey hey\n",
      "<Ended executing greet>\n"
     ]
    }
   ],
   "source": [
    "@my_decorator\n",
    "def greet():\n",
    "    print(\"Hey hey\")\n",
    "\n",
    "greet()"
   ]
  },
  {
   "cell_type": "markdown",
   "metadata": {
    "slideshow": {
     "slide_type": "subslide"
    }
   },
   "source": [
    "## Example - Decorator for timing execution"
   ]
  },
  {
   "cell_type": "code",
   "execution_count": 44,
   "metadata": {
    "collapsed": true
   },
   "outputs": [],
   "source": [
    "from time import time\n",
    "\n",
    "def timeit(func):\n",
    "    def wrapper(*args):\n",
    "        start_time = time()\n",
    "        func(*args)\n",
    "        print(\"{} finished in {:.4f} seconds\".format(func.__name__, time() - start_time))\n",
    "    return wrapper"
   ]
  },
  {
   "cell_type": "code",
   "execution_count": 45,
   "metadata": {
    "collapsed": false
   },
   "outputs": [
    {
     "name": "stdout",
     "output_type": "stream",
     "text": [
      "foo finished in 0.0391 seconds\n"
     ]
    }
   ],
   "source": [
    "@timeit\n",
    "def foo():\n",
    "    for i in range(100000):\n",
    "        i**2\n",
    "foo()"
   ]
  },
  {
   "cell_type": "markdown",
   "metadata": {
    "slideshow": {
     "slide_type": "subslide"
    }
   },
   "source": [
    "## Example - Decorator for type checking"
   ]
  },
  {
   "cell_type": "code",
   "execution_count": 6,
   "metadata": {
    "collapsed": false
   },
   "outputs": [],
   "source": [
    "def accepts_int(func):\n",
    "    def wrapper(*args):\n",
    "        for a in args:\n",
    "            if not isinstance(a, int):\n",
    "                raise TypeError(\"Arguments must be integer\")\n",
    "        return func(*args)\n",
    "    return wrapper"
   ]
  },
  {
   "cell_type": "code",
   "execution_count": 8,
   "metadata": {
    "collapsed": false
   },
   "outputs": [],
   "source": [
    "@accepts_int\n",
    "def add_integers(x, y):\n",
    "    return x + y"
   ]
  },
  {
   "cell_type": "code",
   "execution_count": 10,
   "metadata": {
    "collapsed": false
   },
   "outputs": [
    {
     "data": {
      "text/plain": [
       "3"
      ]
     },
     "execution_count": 10,
     "metadata": {},
     "output_type": "execute_result"
    }
   ],
   "source": [
    "add_integers(1, 2)"
   ]
  },
  {
   "cell_type": "code",
   "execution_count": 11,
   "metadata": {
    "collapsed": false
   },
   "outputs": [
    {
     "ename": "TypeError",
     "evalue": "Arguments must be integer",
     "output_type": "error",
     "traceback": [
      "\u001b[0;31m---------------------------------------------------------------------------\u001b[0m",
      "\u001b[0;31mTypeError\u001b[0m                                 Traceback (most recent call last)",
      "\u001b[0;32m<ipython-input-11-1cd14015be4b>\u001b[0m in \u001b[0;36m<module>\u001b[0;34m()\u001b[0m\n\u001b[0;32m----> 1\u001b[0;31m \u001b[0madd_integers\u001b[0m\u001b[1;33m(\u001b[0m\u001b[1;36m1.0\u001b[0m\u001b[1;33m,\u001b[0m \u001b[1;36m2\u001b[0m\u001b[1;33m)\u001b[0m\u001b[1;33m\u001b[0m\u001b[0m\n\u001b[0m",
      "\u001b[0;32m<ipython-input-6-eb2d285df8e5>\u001b[0m in \u001b[0;36mwrapper\u001b[0;34m(*args)\u001b[0m\n\u001b[1;32m      3\u001b[0m         \u001b[1;32mfor\u001b[0m \u001b[0ma\u001b[0m \u001b[1;32min\u001b[0m \u001b[0margs\u001b[0m\u001b[1;33m:\u001b[0m\u001b[1;33m\u001b[0m\u001b[0m\n\u001b[1;32m      4\u001b[0m             \u001b[1;32mif\u001b[0m \u001b[1;32mnot\u001b[0m \u001b[0misinstance\u001b[0m\u001b[1;33m(\u001b[0m\u001b[0ma\u001b[0m\u001b[1;33m,\u001b[0m \u001b[0mint\u001b[0m\u001b[1;33m)\u001b[0m\u001b[1;33m:\u001b[0m\u001b[1;33m\u001b[0m\u001b[0m\n\u001b[0;32m----> 5\u001b[0;31m                 \u001b[1;32mraise\u001b[0m \u001b[0mTypeError\u001b[0m\u001b[1;33m(\u001b[0m\u001b[1;34m\"Arguments must be integer\"\u001b[0m\u001b[1;33m)\u001b[0m\u001b[1;33m\u001b[0m\u001b[0m\n\u001b[0m\u001b[1;32m      6\u001b[0m         \u001b[1;32mreturn\u001b[0m \u001b[0mfunc\u001b[0m\u001b[1;33m(\u001b[0m\u001b[1;33m*\u001b[0m\u001b[0margs\u001b[0m\u001b[1;33m)\u001b[0m\u001b[1;33m\u001b[0m\u001b[0m\n\u001b[1;32m      7\u001b[0m     \u001b[1;32mreturn\u001b[0m \u001b[0mwrapper\u001b[0m\u001b[1;33m\u001b[0m\u001b[0m\n",
      "\u001b[0;31mTypeError\u001b[0m: Arguments must be integer"
     ]
    }
   ],
   "source": [
    "add_integers(1.0, 2)"
   ]
  }
 ],
 "metadata": {
  "anaconda-cloud": {},
  "kernelspec": {
   "display_name": "Python [default]",
   "language": "python",
   "name": "python3"
  },
  "language_info": {
   "codemirror_mode": {
    "name": "ipython",
    "version": 3
   },
   "file_extension": ".py",
   "mimetype": "text/x-python",
   "name": "python",
   "nbconvert_exporter": "python",
   "pygments_lexer": "ipython3",
   "version": "3.5.2"
  }
 },
 "nbformat": 4,
 "nbformat_minor": 1
}
