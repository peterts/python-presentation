{
 "cells": [
  {
   "cell_type": "markdown",
   "metadata": {
    "slideshow": {
     "slide_type": "slide"
    }
   },
   "source": [
    "![title](https://appirio.com/wp-content/uploads/2016/01/gmail-2014.png)\n",
    "\n",
    "# Use Case - Gmail API"
   ]
  },
  {
   "cell_type": "markdown",
   "metadata": {
    "slideshow": {
     "slide_type": "slide"
    }
   },
   "source": [
    "# Gmail API for sending emails\n",
    "\n",
    "- Google provides several useful Python APIs for interacting with their services\n",
    "- One of them is the Gmail API\n",
    "- This API can be used to do everything that is available through the GUI\n",
    "- Being able to send a mail from a Python script is often very useful, e.g. if you need to monitor something"
   ]
  },
  {
   "cell_type": "markdown",
   "metadata": {
    "slideshow": {
     "slide_type": "slide"
    }
   },
   "source": [
    "# Installing the Google API"
   ]
  },
  {
   "cell_type": "markdown",
   "metadata": {},
   "source": [
    "To install the Google API in python run the following command in the terminal:\n",
    "\n",
    "    pip install --upgrade google-api-python-client"
   ]
  },
  {
   "cell_type": "markdown",
   "metadata": {
    "slideshow": {
     "slide_type": "slide"
    }
   },
   "source": [
    "# Turning on the Gmail API\n",
    "\n",
    "How to turn on the Gmail API is described [here](https://developers.google.com/gmail/api/quickstart/python)"
   ]
  },
  {
   "cell_type": "markdown",
   "metadata": {
    "slideshow": {
     "slide_type": "slide"
    }
   },
   "source": [
    "# Importing necessary libs"
   ]
  },
  {
   "cell_type": "code",
   "execution_count": 1,
   "metadata": {
    "collapsed": true
   },
   "outputs": [],
   "source": [
    "from oauth2client import tools, client, file\n",
    "from oauth2client.clientsecrets import InvalidClientSecretsError\n",
    "import argparse\n",
    "from httplib2 import Http\n",
    "from apiclient import discovery\n",
    "from email.mime.text import MIMEText\n",
    "import base64\n",
    "import os"
   ]
  },
  {
   "cell_type": "markdown",
   "metadata": {
    "slideshow": {
     "slide_type": "slide"
    }
   },
   "source": [
    "# Defining some necessary params"
   ]
  },
  {
   "cell_type": "markdown",
   "metadata": {},
   "source": [
    "- The **client secrets** file is the file you will download when you have finished activating the Gmail API. This file is somewhat similar to the ssh private key.\n",
    "- The **credentials** file will be generated when you first connect to the Gmail service\n",
    "- **scopes** defines which access level that you require to the google service. The different access levels for gmail can be found [here](https://developers.google.com/gmail/api/auth/scopes)."
   ]
  },
  {
   "cell_type": "code",
   "execution_count": 22,
   "metadata": {
    "collapsed": true
   },
   "outputs": [],
   "source": [
    "PATH_CLIENT_SECRETS = \"C:\\\\Users\\\\peter.sandberg\\\\Development\\\\Python-Presentation\\\\examples\\\\resources\\\\client_secrets.json\"\n",
    "PATH_CREDENTIALS = \"C:\\\\Users\\\\peter.sandberg\\\\Development\\\\Python-Presentation\\\\examples\\\\resources\\\\gmail-credentials.json\"\n",
    "SCOPES = \"https://www.googleapis.com/auth/gmail.compose\""
   ]
  },
  {
   "cell_type": "markdown",
   "metadata": {
    "slideshow": {
     "slide_type": "slide"
    }
   },
   "source": [
    "# Getting the credentials for the service"
   ]
  },
  {
   "cell_type": "markdown",
   "metadata": {},
   "source": [
    "- The credentials is the object that is used to authorize you towards the service\n",
    "- If it does not already exist, and the `client_secrets.json` file exist, the user will be promted to accept connecting to the service"
   ]
  },
  {
   "cell_type": "code",
   "execution_count": 7,
   "metadata": {
    "collapsed": true
   },
   "outputs": [],
   "source": [
    "def get_credentials():\n",
    "    store = file.Storage(PATH_CREDENTIALS)\n",
    "    credentials = store.get()\n",
    "    if not credentials or credentials.invalid:\n",
    "        try:\n",
    "            flags = argparse.ArgumentParser(parents=[tools.argparser]).parse_args()\n",
    "            flow = client.flow_from_clientsecrets(PATH_CLIENT_SECRETS, SCOPES)\n",
    "            credentials = tools.run_flow(flow, store, flags)\n",
    "        except InvalidClientSecretsError:\n",
    "            return None\n",
    "    return credentials"
   ]
  },
  {
   "cell_type": "markdown",
   "metadata": {
    "slideshow": {
     "slide_type": "slide"
    }
   },
   "source": [
    "# Connecting to the service\n",
    "\n",
    "- If the credentials can be created/accessed, the service object can be initialize\n",
    "- The service object is the object that will be used for all operations towards the service"
   ]
  },
  {
   "cell_type": "code",
   "execution_count": 25,
   "metadata": {
    "collapsed": true
   },
   "outputs": [],
   "source": [
    "def init_service():\n",
    "    credentials = get_credentials()\n",
    "    if credentials:\n",
    "        http = credentials.authorize(Http())\n",
    "        return discovery.build('gmail', 'v1', http=http)\n",
    "    return None"
   ]
  },
  {
   "cell_type": "markdown",
   "metadata": {
    "slideshow": {
     "slide_type": "slide"
    }
   },
   "source": [
    "# Creating an email message object"
   ]
  },
  {
   "cell_type": "markdown",
   "metadata": {},
   "source": [
    "- The email is created in the 'MIME' format\n",
    "- Then, it will be encoded to something which may be passed thorugh an URL"
   ]
  },
  {
   "cell_type": "code",
   "execution_count": 23,
   "metadata": {
    "collapsed": true
   },
   "outputs": [],
   "source": [
    "def create_message(sender, to, subject, message_text):\n",
    "    message = MIMEText(message_text)\n",
    "    message['to'] = to\n",
    "    message['from'] = sender\n",
    "    message['subject'] = subject\n",
    "    encoded_message = str(base64.urlsafe_b64encode(bytes(message.as_string(), \"utf8\")), 'utf-8')\n",
    "    return {'raw': encoded_message}"
   ]
  },
  {
   "cell_type": "markdown",
   "metadata": {
    "slideshow": {
     "slide_type": "slide"
    }
   },
   "source": [
    "# Sending the message"
   ]
  },
  {
   "cell_type": "code",
   "execution_count": 14,
   "metadata": {
    "collapsed": true
   },
   "outputs": [],
   "source": [
    "def send_message(service, message):\n",
    "    if service:\n",
    "        (service.users().messages().send(userId=\"me\", body=message)).execute()"
   ]
  },
  {
   "cell_type": "markdown",
   "metadata": {
    "slideshow": {
     "slide_type": "slide"
    }
   },
   "source": [
    "# Example - Let's send a mail!"
   ]
  },
  {
   "cell_type": "code",
   "execution_count": 26,
   "metadata": {
    "collapsed": false
   },
   "outputs": [
    {
     "name": "stdout",
     "output_type": "stream",
     "text": [
      "Send to: petthosan@gmail.com\n",
      "Subject: Hello\n",
      "Message: This is a test\n"
     ]
    }
   ],
   "source": [
    "sender = \"peter.sandberg@visma.com\"\n",
    "to = input(\"Send to: \").strip()\n",
    "subject = input(\"Subject: \").strip()\n",
    "message_text = input(\"Message: \").strip()\n",
    "\n",
    "message = create_message(sender, to, subject, message_text)\n",
    "service = init_service()\n",
    "\n",
    "send_message(service, message)"
   ]
  }
 ],
 "metadata": {
  "anaconda-cloud": {},
  "kernelspec": {
   "display_name": "Python [conda root]",
   "language": "python",
   "name": "conda-root-py"
  },
  "language_info": {
   "codemirror_mode": {
    "name": "ipython",
    "version": 3
   },
   "file_extension": ".py",
   "mimetype": "text/x-python",
   "name": "python",
   "nbconvert_exporter": "python",
   "pygments_lexer": "ipython3",
   "version": "3.5.2"
  }
 },
 "nbformat": 4,
 "nbformat_minor": 1
}
